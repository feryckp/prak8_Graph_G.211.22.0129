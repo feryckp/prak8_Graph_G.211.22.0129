{
  "nbformat": 4,
  "nbformat_minor": 0,
  "metadata": {
    "colab": {
      "private_outputs": true,
      "provenance": []
    },
    "kernelspec": {
      "name": "python3",
      "display_name": "Python 3"
    },
    "language_info": {
      "name": "python"
    }
  },
  "cells": [
    {
      "cell_type": "code",
      "execution_count": null,
      "metadata": {
        "id": "XU3EwSNpLQjI"
      },
      "outputs": [],
      "source": [
        "import heapq\n",
        "\n",
        "def dijkstra(graph, start):\n",
        "    # Inisialisasi jarak awal ke semua node sebagai infinity, kecuali start node yang diatur menjadi 0\n",
        "    distances = {node: float('infinity') for node in graph}\n",
        "    distances[start] = 0\n",
        "\n",
        "    # Inisialisasi priority queue\n",
        "    priority_queue = [(0, start)]\n",
        "\n",
        "    while priority_queue:\n",
        "        # Ambil node dengan jarak terpendek saat ini\n",
        "        current_distance, current_node = heapq.heappop(priority_queue)\n",
        "\n",
        "        # Periksa apakah jarak saat ini lebih pendek dari yang telah dihitung sebelumnya\n",
        "        if current_distance > distances[current_node]:\n",
        "            continue\n",
        "\n",
        "        # Perbarui jarak terpendek ke tetangga-tetangga node saat ini\n",
        "        for neighbor, weight in graph[current_node].items():\n",
        "            distance = current_distance + weight\n",
        "\n",
        "            # Jika jarak baru lebih pendek, perbarui jarak\n",
        "            if distance < distances[neighbor]:\n",
        "                distances[neighbor] = distance\n",
        "                heapq.heappush(priority_queue, (distance, neighbor))\n",
        "\n",
        "    return distances\n",
        "\n",
        "# Contoh penggunaan\n",
        "graph = {\n",
        "    'A': {'B': 1, 'C': 4},\n",
        "    'B': {'A': 1, 'C': 2, 'D': 5},\n",
        "    'C': {'A': 4, 'B': 2, 'D': 1},\n",
        "    'D': {'B': 5, 'C': 1}\n",
        "}\n",
        "\n",
        "start_node = 'A'\n",
        "shortest_distances = dijkstra(graph, start_node)\n",
        "\n",
        "print(f\"Jarak terpendek dari node {start_node}:\")\n",
        "for node, distance in shortest_distances.items():\n",
        "    print(f\"{node}: {distance}\")\n"
      ]
    }
  ]
}